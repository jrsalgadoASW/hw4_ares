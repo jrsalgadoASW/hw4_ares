{
 "cells": [
  {
   "attachments": {},
   "cell_type": "markdown",
   "metadata": {},
   "source": [
    "# Libraries"
   ]
  },
  {
   "cell_type": "code",
   "execution_count": 128,
   "metadata": {},
   "outputs": [],
   "source": [
    "import numpy as np\n",
    "import pandas as pd\n",
    "import string\n",
    "import matplotlib.pyplot as plt\n",
    "import seaborn as sns\n",
    "sns.set()\n",
    "from unidecode import unidecode"
   ]
  },
  {
   "attachments": {},
   "cell_type": "markdown",
   "metadata": {},
   "source": [
    "# Data Loading"
   ]
  },
  {
   "cell_type": "code",
   "execution_count": 129,
   "metadata": {},
   "outputs": [
    {
     "name": "stdout",
     "output_type": "stream",
     "text": [
      "     description   stage  duration\n",
      "0  desc stage1 1  stage1         3\n",
      "1  desc stage2 1  stage2         2\n",
      "2  desc stage3 1  stage3         3\n",
      "3  desc stage2 1  stage2         3\n",
      "4  desc stage1 1  stage1         1\n",
      "5  desc stage2 1  stage2         1\n",
      "6  desc stage3 1  stage3         2\n",
      "7  desc stage2 1  stage2         3\n",
      "8  desc stage1 1  stage1         2\n",
      "9  desc stage3 1  stage3         3\n"
     ]
    }
   ],
   "source": [
    "csv_filename = \"ares_test_data.csv\"\n",
    "data = pd.read_csv(csv_filename)\n",
    "print(data.head(10))"
   ]
  },
  {
   "attachments": {},
   "cell_type": "markdown",
   "metadata": {},
   "source": [
    "# Data Cleaning"
   ]
  },
  {
   "cell_type": "code",
   "execution_count": 130,
   "metadata": {},
   "outputs": [
    {
     "name": "stdout",
     "output_type": "stream",
     "text": [
      "['0', '1', '2', '3', '4', '5', '6', '7', '8', '9', 'a', 'b', 'c', 'd', 'e', 'f', 'g', 'h', 'i', 'j', 'k', 'l', 'm', 'n', 'o', 'p', 'q', 'r', 's', 't', 'u', 'v', 'w', 'x', 'y', 'z', 'A', 'B', 'C', 'D', 'E', 'F', 'G', 'H', 'I', 'J', 'K', 'L', 'M', 'N', 'O', 'P', 'Q', 'R', 'S', 'T', 'U', 'V', 'W', 'X', 'Y', 'Z', '!', '\"', '#', '$', '%', '&', \"'\", '(', ')', '*', '+', ',', '-', '.', '/', ':', ';', '<', '=', '>', '?', '@', '[', '\\\\', ']', '^', '_', '`', '{', '|', '}', '~', ' ', '\\t', '\\n', '\\r', '\\x0b', '\\x0c']\n"
     ]
    }
   ],
   "source": [
    "def get_all_characters() -> list:\n",
    "    \"\"\"\n",
    "    @returns all the characters relevant for the model. Right now it is all the printable characters\n",
    "    \"\"\"\n",
    "    all_characters: list = []\n",
    "    # all_letters: list = list(string.ascii_letters)\n",
    "    # all_digits = [\"0\",\"1\",\"2\",\"3\",\"4\",\"5\",\"6\",\"7\",\"8\",\"9\"]\n",
    "    printable_characters = list(string.printable)\n",
    "    all_characters = printable_characters\n",
    "    return all_characters\n",
    "\n",
    "print(get_all_characters())\n",
    "\n",
    "def get_relevant_columns_names() -> list:\n",
    "    relevant_columns_names = [\"stage\", \"description\", \"duration\"]\n",
    "    return relevant_columns_names\n",
    "\n",
    "\n",
    "def get_clean_text(text: str) -> str:\n",
    "    \"\"\"\n",
    "    @return string with only relevant characters to the model\n",
    "    \"\"\"\n",
    "    all_characters = get_all_characters()\n",
    "    character_list = list(text)\n",
    "\n",
    "    for char in character_list:\n",
    "        if char not in all_characters:\n",
    "            text = text.replace(char, \"\")\n",
    "    return text\n",
    "\n",
    "\n",
    "def get_relevant_columns(df: pd.DataFrame):\n",
    "    rcn = get_relevant_columns_names()\n",
    "    return df[rcn]\n"
   ]
  },
  {
   "cell_type": "code",
   "execution_count": 131,
   "metadata": {},
   "outputs": [
    {
     "name": "stdout",
     "output_type": "stream",
     "text": [
      "    stage    description  duration\n",
      "0  stage1  desc stage1 1         3\n",
      "1  stage2  desc stage2 1         2\n",
      "2  stage3  desc stage3 1         3\n",
      "3  stage2  desc stage2 1         3\n",
      "4  stage1  desc stage1 1         1\n"
     ]
    }
   ],
   "source": [
    "data = get_relevant_columns(data)\n",
    "data['description'] = data['description'].apply(get_clean_text) \n",
    "print(data.head())"
   ]
  },
  {
   "attachments": {},
   "cell_type": "markdown",
   "metadata": {},
   "source": [
    "# Model Creation"
   ]
  },
  {
   "attachments": {},
   "cell_type": "markdown",
   "metadata": {},
   "source": [
    "## Strings operations"
   ]
  },
  {
   "cell_type": "code",
   "execution_count": 132,
   "metadata": {},
   "outputs": [],
   "source": [
    "\n",
    "def get_number_of_characters(s: str)->int:\n",
    "    return len(s.replace(\" \", \"\"))\n",
    "\n",
    "def get_character_index(s: str)->int:\n",
    "    all_characters: list = get_all_characters()\n",
    "    index = all_characters.index(s)\n",
    "    return index"
   ]
  },
  {
   "attachments": {},
   "cell_type": "markdown",
   "metadata": {},
   "source": [
    "## Biagram"
   ]
  },
  {
   "cell_type": "code",
   "execution_count": 133,
   "metadata": {},
   "outputs": [],
   "source": [
    "# create matrix with biagram\n",
    "def create_biagram() -> np.array:\n",
    "    \"\"\"\n",
    "    @return a matrix filled with zeroes of size n_char x n_char\n",
    "    \"\"\"\n",
    "    # The only characters we are going to consider.\n",
    "    all_characters: list = get_all_characters()\n",
    "    n_characters = len(all_characters)\n",
    "    # create the matrix of size n_characters\n",
    "    biagram: np.array = np.zeros((n_characters, n_characters))\n",
    "    return biagram\n",
    "\n",
    "\n",
    "def get_stage_descriptions(df: pd.DataFrame, stage: str) -> pd.DataFrame:\n",
    "    \"\"\"\n",
    "    @input\n",
    "        df: Dataframe with all the information.\n",
    "        stage: stage to extract\n",
    "    @return list with all the descriptions of the given stage\n",
    "    \"\"\"\n",
    "    column_name: str = \"stage\"\n",
    "    mask = df[column_name] == stage\n",
    "    return df[mask][column_name]\n",
    "\n",
    "\n",
    "def get_character_count(descriptions: pd.DataFrame) -> dict:\n",
    "    \"\"\"\n",
    "    @input description: df with all the description of a stage.\n",
    "    @return dictionary with character count of all the descriptions in a stage. \n",
    "    \"\"\"\n",
    "    all_characters = get_all_characters()\n",
    "    character_count: dict = {}\n",
    "    for description in descriptions:\n",
    "        for character in all_characters:\n",
    "            character_count[character] = description.count(character)\n",
    "    return character_count\n",
    "\n",
    "\n",
    "def get_filled_biagram(descriptions: pd.DataFrame) -> np.array:\n",
    "    \"\"\"\n",
    "    @input list of all the descriptions for a stage\n",
    "    @return matrix with character count, and the count of the next character\n",
    "    \"\"\"\n",
    "    # create the matrix of size n_characters\n",
    "    biagram: np.array = create_biagram()\n",
    "    for description in descriptions:\n",
    "        for index in range(0, len(description) - 1):\n",
    "            # check current and next character\n",
    "            current_character = description[index]\n",
    "            current_character_index = get_character_index(current_character)\n",
    "\n",
    "            next_character = description[index + 1]\n",
    "            next_character_index = get_character_index(next_character)\n",
    "\n",
    "            current_biagram_value = biagram[current_character_index][\n",
    "                next_character_index\n",
    "            ]\n",
    "            biagram[current_character_index][next_character_index] = (\n",
    "                current_biagram_value + 1\n",
    "            )\n",
    "    return biagram\n"
   ]
  },
  {
   "attachments": {},
   "cell_type": "markdown",
   "metadata": {},
   "source": [
    "## Probability Matrix"
   ]
  },
  {
   "cell_type": "code",
   "execution_count": 134,
   "metadata": {},
   "outputs": [],
   "source": [
    "def normalize_probabilities(character_count: int, total_characters: int)->float:\n",
    "    return character_count/total_characters\n",
    "\n",
    "def get_marginal_probabilities(character_count: dict, text:str)->np.array:\n",
    "    \"\"\"\n",
    "    @input \n",
    "        character_count: Dictionary with occurences of each character\n",
    "        text: the text to analyse\n",
    "    \"\"\"\n",
    "    character_probabilities = np.zeros(len(string.ascii_lowercase))\n",
    "    n_characters = get_number_of_characters(text)\n",
    "    for char in character_count.keys():\n",
    "        index = list(character_count.keys()).index(char)\n",
    "        character_probabilities[index] = normalize_probabilities(character_count[char], n_characters)+0.00001\n",
    "    return character_probabilities\n",
    "\n",
    "def get_cond_probabilities(joint_probability: np.array,marginal_probability: np.array)->np.array:\n",
    "    conditional_probability = (joint_probability.T/marginal_probability).T\n",
    "    # normalized matrix\n",
    "    conditional_probability = conditional_probability/conditional_probability.sum() \n",
    "    prob_sum = conditional_probability.sum()\n",
    "    print(f\"prob_sum = {prob_sum}\")\n",
    "    return conditional_probability\n",
    "\n",
    "def get_joint_probabilities(characters_count: np.array)->np.array:\n",
    "    all_characters = get_all_characters()\n",
    "    # + len(all_characters) to account for repetitions (aa, bb, cc, dd, etc.)\n",
    "    n_pairs = characters_count.sum()\n",
    "    joint_probability_matrix = create_biagram()\n",
    "    prob_sum = 0\n",
    "    for i, row in enumerate(characters_count):\n",
    "        for j,count in enumerate(characters_count):\n",
    "            joint_probability_matrix[i][j] = normalize_probabilities(characters_count[i][j], n_pairs)\n",
    "            prob_sum = prob_sum + joint_probability_matrix[i][j]\n",
    "    print(f\"prob_sum = {prob_sum}\")\n",
    "    return joint_probability_matrix"
   ]
  },
  {
   "cell_type": "code",
   "execution_count": 139,
   "metadata": {},
   "outputs": [],
   "source": [
    "def graph_matrix_heatmap(matrix: np.array):\n",
    "    all_characters = get_all_characters()\n",
    "    # fig, ax = plt.subplots(figsize=(10, 10))\n",
    "    sns.heatmap(matrix, cmap=\"Blues\" ,annot=False, xticklabels=False, yticklabels=False)\n",
    "    plt.xticks(rotation=0)\n",
    "    plt.show()"
   ]
  },
  {
   "attachments": {},
   "cell_type": "markdown",
   "metadata": {},
   "source": [
    "## Model Creation"
   ]
  },
  {
   "attachments": {},
   "cell_type": "markdown",
   "metadata": {},
   "source": [
    "# Stage 1"
   ]
  },
  {
   "cell_type": "code",
   "execution_count": 140,
   "metadata": {},
   "outputs": [
    {
     "name": "stdout",
     "output_type": "stream",
     "text": [
      "prob_sum = 1.0\n"
     ]
    },
    {
     "data": {
      "image/png": "[encoded data removed]",
      "text/plain": [
       "<Figure size 640x480 with 2 Axes>"
      ]
     },
     "metadata": {},
     "output_type": "display_data"
    }
   ],
   "source": [
    "stage1_descriptions = get_stage_descriptions(data, \"stage1\")\n",
    "STAGE1_dist = get_filled_biagram(stage1_descriptions)\n",
    "STAGE1_dist = get_joint_probabilities(STAGE1_dist)\n",
    "graph_matrix_heatmap(STAGE1_dist)\n"
   ]
  }
 ],
 "metadata": {
  "kernelspec": {
   "display_name": ".venv",
   "language": "python",
   "name": "python3"
  },
  "language_info": {
   "codemirror_mode": {
    "name": "ipython",
    "version": 3
   },
   "file_extension": ".py",
   "mimetype": "text/x-python",
   "name": "python",
   "nbconvert_exporter": "python",
   "pygments_lexer": "ipython3",
   "version": "3.10.6"
  },
  "orig_nbformat": 4,
  "vscode": {
   "interpreter": {
    "hash": "22fc33fb04599d77d29181c0ac099ea8b26509b251bb49127b416299326c9172"
   }
  }
 },
 "nbformat": 4,
 "nbformat_minor": 2
}
