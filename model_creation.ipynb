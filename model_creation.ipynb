{
 "cells": [
  {
   "attachments": {},
   "cell_type": "markdown",
   "metadata": {},
   "source": [
    "# Libraries"
   ]
  },
  {
   "cell_type": "code",
   "execution_count": 41,
   "metadata": {},
   "outputs": [],
   "source": [
    "import math\n",
    "import numpy as np\n",
    "import pandas as pd\n",
    "import string\n",
    "import matplotlib.pyplot as plt\n",
    "import seaborn as sns\n",
    "sns.set()\n",
    "from sklearn.model_selection import train_test_split\n",
    "from unidecode import unidecode"
   ]
  },
  {
   "attachments": {},
   "cell_type": "markdown",
   "metadata": {},
   "source": [
    "# Data Loading"
   ]
  },
  {
   "cell_type": "code",
   "execution_count": 42,
   "metadata": {},
   "outputs": [
    {
     "data": {
      "text/html": [
       "<div>\n",
       "<style scoped>\n",
       "    .dataframe tbody tr th:only-of-type {\n",
       "        vertical-align: middle;\n",
       "    }\n",
       "\n",
       "    .dataframe tbody tr th {\n",
       "        vertical-align: top;\n",
       "    }\n",
       "\n",
       "    .dataframe thead th {\n",
       "        text-align: right;\n",
       "    }\n",
       "</style>\n",
       "<table border=\"1\" class=\"dataframe\">\n",
       "  <thead>\n",
       "    <tr style=\"text-align: right;\">\n",
       "      <th></th>\n",
       "      <th>DESCRIPCION</th>\n",
       "      <th>CODIGO_ETAPA</th>\n",
       "      <th>DURACION_HORAS</th>\n",
       "    </tr>\n",
       "  </thead>\n",
       "  <tbody>\n",
       "    <tr>\n",
       "      <th>0</th>\n",
       "      <td>Vacaciones</td>\n",
       "      <td>VAC</td>\n",
       "      <td>8.0</td>\n",
       "    </tr>\n",
       "    <tr>\n",
       "      <th>1</th>\n",
       "      <td>Vacaciones</td>\n",
       "      <td>VAC</td>\n",
       "      <td>8.0</td>\n",
       "    </tr>\n",
       "    <tr>\n",
       "      <th>2</th>\n",
       "      <td>Documentación proceso multipago bancario ajust...</td>\n",
       "      <td>COCOD</td>\n",
       "      <td>3.0</td>\n",
       "    </tr>\n",
       "    <tr>\n",
       "      <th>3</th>\n",
       "      <td>Documentación proceso acumulación pisos y paso...</td>\n",
       "      <td>COCOD</td>\n",
       "      <td>3.0</td>\n",
       "    </tr>\n",
       "    <tr>\n",
       "      <th>4</th>\n",
       "      <td>Documentación proceso acumulación pisos y cont...</td>\n",
       "      <td>COCOD</td>\n",
       "      <td>2.0</td>\n",
       "    </tr>\n",
       "    <tr>\n",
       "      <th>...</th>\n",
       "      <td>...</td>\n",
       "      <td>...</td>\n",
       "      <td>...</td>\n",
       "    </tr>\n",
       "    <tr>\n",
       "      <th>52851</th>\n",
       "      <td>Reunión daily, Documentando el código desarrol...</td>\n",
       "      <td>COCOD</td>\n",
       "      <td>3.0</td>\n",
       "    </tr>\n",
       "    <tr>\n",
       "      <th>52852</th>\n",
       "      <td>Generando los test unitarios a los servicios y...</td>\n",
       "      <td>COCOD</td>\n",
       "      <td>2.0</td>\n",
       "    </tr>\n",
       "    <tr>\n",
       "      <th>52853</th>\n",
       "      <td>Homologando las colecciones de postman, optimi...</td>\n",
       "      <td>COCOD</td>\n",
       "      <td>3.0</td>\n",
       "    </tr>\n",
       "    <tr>\n",
       "      <th>52854</th>\n",
       "      <td>Validación de los datos de parametrización e i...</td>\n",
       "      <td>TRCON</td>\n",
       "      <td>2.0</td>\n",
       "    </tr>\n",
       "    <tr>\n",
       "      <th>52855</th>\n",
       "      <td>Apoyo al equipo de trabajo con las tareas del ...</td>\n",
       "      <td>DIAPL</td>\n",
       "      <td>2.0</td>\n",
       "    </tr>\n",
       "  </tbody>\n",
       "</table>\n",
       "<p>52856 rows × 3 columns</p>\n",
       "</div>"
      ],
      "text/plain": [
       "                                             DESCRIPCION CODIGO_ETAPA  \\\n",
       "0                                             Vacaciones          VAC   \n",
       "1                                             Vacaciones          VAC   \n",
       "2      Documentación proceso multipago bancario ajust...        COCOD   \n",
       "3      Documentación proceso acumulación pisos y paso...        COCOD   \n",
       "4      Documentación proceso acumulación pisos y cont...        COCOD   \n",
       "...                                                  ...          ...   \n",
       "52851  Reunión daily, Documentando el código desarrol...        COCOD   \n",
       "52852  Generando los test unitarios a los servicios y...        COCOD   \n",
       "52853  Homologando las colecciones de postman, optimi...        COCOD   \n",
       "52854  Validación de los datos de parametrización e i...        TRCON   \n",
       "52855  Apoyo al equipo de trabajo con las tareas del ...        DIAPL   \n",
       "\n",
       "       DURACION_HORAS  \n",
       "0                 8.0  \n",
       "1                 8.0  \n",
       "2                 3.0  \n",
       "3                 3.0  \n",
       "4                 2.0  \n",
       "...               ...  \n",
       "52851             3.0  \n",
       "52852             2.0  \n",
       "52853             3.0  \n",
       "52854             2.0  \n",
       "52855             2.0  \n",
       "\n",
       "[52856 rows x 3 columns]"
      ]
     },
     "execution_count": 42,
     "metadata": {},
     "output_type": "execute_result"
    }
   ],
   "source": [
    "csv_filename = \"ARES2_EJECUCION_ACTIVIDADES.csv\"\n",
    "data = pd.read_csv(csv_filename)\n",
    "data"
   ]
  },
  {
   "attachments": {},
   "cell_type": "markdown",
   "metadata": {},
   "source": [
    "# Data Cleaning"
   ]
  },
  {
   "cell_type": "code",
   "execution_count": 43,
   "metadata": {},
   "outputs": [
    {
     "name": "stdout",
     "output_type": "stream",
     "text": [
      "['0', '1', '2', '3', '4', '5', '6', '7', '8', '9', 'a', 'b', 'c', 'd', 'e', 'f', 'g', 'h', 'i', 'j', 'k', 'l', 'm', 'n', 'o', 'p', 'q', 'r', 's', 't', 'u', 'v', 'w', 'x', 'y', 'z', 'A', 'B', 'C', 'D', 'E', 'F', 'G', 'H', 'I', 'J', 'K', 'L', 'M', 'N', 'O', 'P', 'Q', 'R', 'S', 'T', 'U', 'V', 'W', 'X', 'Y', 'Z', '!', '\"', '#', '$', '%', '&', \"'\", '(', ')', '*', '+', ',', '-', '.', '/', ':', ';', '<', '=', '>', '?', '@', '[', '\\\\', ']', '^', '_', '`', '{', '|', '}', '~', ' ', '\\t', '\\n', '\\r', '\\x0b', '\\x0c']\n"
     ]
    }
   ],
   "source": [
    "def get_all_characters() -> list:\n",
    "    \"\"\"\n",
    "    @returns all the characters relevant for the model. Right now it is all the printable characters\n",
    "    \"\"\"\n",
    "    all_characters: list = []\n",
    "    all_letters: list = list(string.ascii_letters)\n",
    "    all_digits = [\"0\",\"1\",\"2\",\"3\",\"4\",\"5\",\"6\",\"7\",\"8\",\"9\"]\n",
    "    printable_characters = list(string.printable)\n",
    "    all_characters = printable_characters\n",
    "    #all_characters = all_letters+all_digits\n",
    "    return all_characters\n",
    "\n",
    "\n",
    "print(get_all_characters())\n",
    "\n",
    "\n",
    "def get_column_labels():\n",
    "    return {\n",
    "        \"CODIGO_ETAPA\": \"CODIGO_ETAPA\",\n",
    "        \"DESCRIPCION\": \"DESCRIPCION\",\n",
    "        \"DURACION_HORAS\": \"DURACION_HORAS\",\n",
    "    }\n",
    "def get_all_stages(df: pd.DataFrame):\n",
    "    res = df[get_column_labels()[\"CODIGO_ETAPA\"]].unique() \n",
    "    return res\n",
    "get_all_stages(data)\n",
    "\n",
    "\n",
    "def get_relevant_columns_names() -> list:\n",
    "    column_labels = get_column_labels()\n",
    "    relevant_columns_names = [column_labels[\"CODIGO_ETAPA\"], column_labels[\"DESCRIPCION\"], column_labels[\"DURACION_HORAS\"]]\n",
    "    return relevant_columns_names\n",
    "\n",
    "\n",
    "def get_clean_text(text: str) -> str:\n",
    "    \"\"\"\n",
    "    @return string with only relevant characters to the model\n",
    "    \"\"\"\n",
    "    all_characters = get_all_characters()\n",
    "    text = unidecode(text)\n",
    "    character_list = list(text)\n",
    "\n",
    "    for char in character_list:\n",
    "        if char not in all_characters:\n",
    "            text = text.replace(char, \"\")\n",
    "    return text\n",
    "\n",
    "\n",
    "def get_relevant_columns(df: pd.DataFrame):\n",
    "    rcn = get_relevant_columns_names()\n",
    "    return df[rcn]\n"
   ]
  },
  {
   "cell_type": "code",
   "execution_count": 44,
   "metadata": {},
   "outputs": [
    {
     "data": {
      "text/html": [
       "<div>\n",
       "<style scoped>\n",
       "    .dataframe tbody tr th:only-of-type {\n",
       "        vertical-align: middle;\n",
       "    }\n",
       "\n",
       "    .dataframe tbody tr th {\n",
       "        vertical-align: top;\n",
       "    }\n",
       "\n",
       "    .dataframe thead th {\n",
       "        text-align: right;\n",
       "    }\n",
       "</style>\n",
       "<table border=\"1\" class=\"dataframe\">\n",
       "  <thead>\n",
       "    <tr style=\"text-align: right;\">\n",
       "      <th></th>\n",
       "      <th>CODIGO_ETAPA</th>\n",
       "      <th>DESCRIPCION</th>\n",
       "      <th>DURACION_HORAS</th>\n",
       "    </tr>\n",
       "  </thead>\n",
       "  <tbody>\n",
       "    <tr>\n",
       "      <th>0</th>\n",
       "      <td>VAC</td>\n",
       "      <td>Vacaciones</td>\n",
       "      <td>8.0</td>\n",
       "    </tr>\n",
       "    <tr>\n",
       "      <th>1</th>\n",
       "      <td>VAC</td>\n",
       "      <td>Vacaciones</td>\n",
       "      <td>8.0</td>\n",
       "    </tr>\n",
       "    <tr>\n",
       "      <th>2</th>\n",
       "      <td>COCOD</td>\n",
       "      <td>Documentacion proceso multipago bancario ajust...</td>\n",
       "      <td>3.0</td>\n",
       "    </tr>\n",
       "    <tr>\n",
       "      <th>3</th>\n",
       "      <td>COCOD</td>\n",
       "      <td>Documentacion proceso acumulacion pisos y paso...</td>\n",
       "      <td>3.0</td>\n",
       "    </tr>\n",
       "    <tr>\n",
       "      <th>4</th>\n",
       "      <td>COCOD</td>\n",
       "      <td>Documentacion proceso acumulacion pisos y cont...</td>\n",
       "      <td>2.0</td>\n",
       "    </tr>\n",
       "    <tr>\n",
       "      <th>...</th>\n",
       "      <td>...</td>\n",
       "      <td>...</td>\n",
       "      <td>...</td>\n",
       "    </tr>\n",
       "    <tr>\n",
       "      <th>52851</th>\n",
       "      <td>COCOD</td>\n",
       "      <td>Reunion daily, Documentando el codigo desarrol...</td>\n",
       "      <td>3.0</td>\n",
       "    </tr>\n",
       "    <tr>\n",
       "      <th>52852</th>\n",
       "      <td>COCOD</td>\n",
       "      <td>Generando los test unitarios a los servicios y...</td>\n",
       "      <td>2.0</td>\n",
       "    </tr>\n",
       "    <tr>\n",
       "      <th>52853</th>\n",
       "      <td>COCOD</td>\n",
       "      <td>Homologando las colecciones de postman, optimi...</td>\n",
       "      <td>3.0</td>\n",
       "    </tr>\n",
       "    <tr>\n",
       "      <th>52854</th>\n",
       "      <td>TRCON</td>\n",
       "      <td>Validacion de los datos de parametrizacion e i...</td>\n",
       "      <td>2.0</td>\n",
       "    </tr>\n",
       "    <tr>\n",
       "      <th>52855</th>\n",
       "      <td>DIAPL</td>\n",
       "      <td>Apoyo al equipo de trabajo con las tareas del ...</td>\n",
       "      <td>2.0</td>\n",
       "    </tr>\n",
       "  </tbody>\n",
       "</table>\n",
       "<p>52856 rows × 3 columns</p>\n",
       "</div>"
      ],
      "text/plain": [
       "      CODIGO_ETAPA                                        DESCRIPCION  \\\n",
       "0              VAC                                         Vacaciones   \n",
       "1              VAC                                         Vacaciones   \n",
       "2            COCOD  Documentacion proceso multipago bancario ajust...   \n",
       "3            COCOD  Documentacion proceso acumulacion pisos y paso...   \n",
       "4            COCOD  Documentacion proceso acumulacion pisos y cont...   \n",
       "...            ...                                                ...   \n",
       "52851        COCOD  Reunion daily, Documentando el codigo desarrol...   \n",
       "52852        COCOD  Generando los test unitarios a los servicios y...   \n",
       "52853        COCOD  Homologando las colecciones de postman, optimi...   \n",
       "52854        TRCON  Validacion de los datos de parametrizacion e i...   \n",
       "52855        DIAPL  Apoyo al equipo de trabajo con las tareas del ...   \n",
       "\n",
       "       DURACION_HORAS  \n",
       "0                 8.0  \n",
       "1                 8.0  \n",
       "2                 3.0  \n",
       "3                 3.0  \n",
       "4                 2.0  \n",
       "...               ...  \n",
       "52851             3.0  \n",
       "52852             2.0  \n",
       "52853             3.0  \n",
       "52854             2.0  \n",
       "52855             2.0  \n",
       "\n",
       "[52856 rows x 3 columns]"
      ]
     },
     "execution_count": 44,
     "metadata": {},
     "output_type": "execute_result"
    }
   ],
   "source": [
    "data = get_relevant_columns(data)\n",
    "data[get_column_labels()['DESCRIPCION']] = data[get_column_labels()['DESCRIPCION']].apply(get_clean_text) \n",
    "data"
   ]
  },
  {
   "attachments": {},
   "cell_type": "markdown",
   "metadata": {},
   "source": [
    "# Data Mining"
   ]
  },
  {
   "attachments": {},
   "cell_type": "markdown",
   "metadata": {},
   "source": [
    "## Most used stage"
   ]
  },
  {
   "cell_type": "code",
   "execution_count": 45,
   "metadata": {},
   "outputs": [
    {
     "data": {
      "text/plain": [
       "COCOD      20033\n",
       "ERENT       4972\n",
       "APEJE       2884\n",
       "APSEG       1909\n",
       "PRSIS       1687\n",
       "ASEJE       1395\n",
       "COAJU       1370\n",
       "EMPALME     1201\n",
       "COREV       1177\n",
       "ASSEG       1141\n",
       "Name: CODIGO_ETAPA, dtype: int64"
      ]
     },
     "execution_count": 45,
     "metadata": {},
     "output_type": "execute_result"
    }
   ],
   "source": [
    "#count each stage occurance\n",
    "counts = data[get_column_labels()[\"CODIGO_ETAPA\"]].value_counts()\n",
    "counts.head(10)"
   ]
  },
  {
   "cell_type": "code",
   "execution_count": 46,
   "metadata": {},
   "outputs": [
    {
     "data": {
      "text/html": [
       "<div>\n",
       "<style scoped>\n",
       "    .dataframe tbody tr th:only-of-type {\n",
       "        vertical-align: middle;\n",
       "    }\n",
       "\n",
       "    .dataframe tbody tr th {\n",
       "        vertical-align: top;\n",
       "    }\n",
       "\n",
       "    .dataframe thead th {\n",
       "        text-align: right;\n",
       "    }\n",
       "</style>\n",
       "<table border=\"1\" class=\"dataframe\">\n",
       "  <thead>\n",
       "    <tr style=\"text-align: right;\">\n",
       "      <th></th>\n",
       "      <th>CODIGO_ETAPA</th>\n",
       "      <th>DESCRIPCION</th>\n",
       "      <th>DURACION_HORAS</th>\n",
       "    </tr>\n",
       "  </thead>\n",
       "  <tbody>\n",
       "    <tr>\n",
       "      <th>47751</th>\n",
       "      <td>COCOD</td>\n",
       "      <td>Se siguio trabajando en los ajustes del metodo...</td>\n",
       "      <td>2.00</td>\n",
       "    </tr>\n",
       "    <tr>\n",
       "      <th>49896</th>\n",
       "      <td>COCOD</td>\n",
       "      <td>Agregar campo a tabla y reporte, ajuste respon...</td>\n",
       "      <td>2.25</td>\n",
       "    </tr>\n",
       "    <tr>\n",
       "      <th>43311</th>\n",
       "      <td>APSEG</td>\n",
       "      <td>Daily ASW</td>\n",
       "      <td>0.25</td>\n",
       "    </tr>\n",
       "    <tr>\n",
       "      <th>32612</th>\n",
       "      <td>COCOD</td>\n",
       "      <td>REvision caso de uso  Emit retry</td>\n",
       "      <td>2.83</td>\n",
       "    </tr>\n",
       "    <tr>\n",
       "      <th>8749</th>\n",
       "      <td>ASEJE</td>\n",
       "      <td>Realizar estimacion de CO_1024_ANT_Estimacion ...</td>\n",
       "      <td>1.50</td>\n",
       "    </tr>\n",
       "    <tr>\n",
       "      <th>...</th>\n",
       "      <td>...</td>\n",
       "      <td>...</td>\n",
       "      <td>...</td>\n",
       "    </tr>\n",
       "    <tr>\n",
       "      <th>3841</th>\n",
       "      <td>APEJE</td>\n",
       "      <td>Ajuste rechazos de los meses de junio y julio ...</td>\n",
       "      <td>3.00</td>\n",
       "    </tr>\n",
       "    <tr>\n",
       "      <th>37052</th>\n",
       "      <td>APEJE</td>\n",
       "      <td>Sesion de avance diario, gestion del proyecto.</td>\n",
       "      <td>3.00</td>\n",
       "    </tr>\n",
       "    <tr>\n",
       "      <th>10178</th>\n",
       "      <td>COCOD</td>\n",
       "      <td>Ajuste modal vehiculos #207267</td>\n",
       "      <td>1.00</td>\n",
       "    </tr>\n",
       "    <tr>\n",
       "      <th>18129</th>\n",
       "      <td>ERENT</td>\n",
       "      <td>Daily Tecnico Clausula Penal con el grupo de S...</td>\n",
       "      <td>0.50</td>\n",
       "    </tr>\n",
       "    <tr>\n",
       "      <th>3530</th>\n",
       "      <td>COCOD</td>\n",
       "      <td>Daily Cosmos SAP</td>\n",
       "      <td>1.00</td>\n",
       "    </tr>\n",
       "  </tbody>\n",
       "</table>\n",
       "<p>7553 rows × 3 columns</p>\n",
       "</div>"
      ],
      "text/plain": [
       "      CODIGO_ETAPA                                        DESCRIPCION  \\\n",
       "47751        COCOD  Se siguio trabajando en los ajustes del metodo...   \n",
       "49896        COCOD  Agregar campo a tabla y reporte, ajuste respon...   \n",
       "43311        APSEG                                          Daily ASW   \n",
       "32612        COCOD                   REvision caso de uso  Emit retry   \n",
       "8749         ASEJE  Realizar estimacion de CO_1024_ANT_Estimacion ...   \n",
       "...            ...                                                ...   \n",
       "3841         APEJE  Ajuste rechazos de los meses de junio y julio ...   \n",
       "37052        APEJE     Sesion de avance diario, gestion del proyecto.   \n",
       "10178        COCOD                     Ajuste modal vehiculos #207267   \n",
       "18129        ERENT  Daily Tecnico Clausula Penal con el grupo de S...   \n",
       "3530         COCOD                                   Daily Cosmos SAP   \n",
       "\n",
       "       DURACION_HORAS  \n",
       "47751            2.00  \n",
       "49896            2.25  \n",
       "43311            0.25  \n",
       "32612            2.83  \n",
       "8749             1.50  \n",
       "...               ...  \n",
       "3841             3.00  \n",
       "37052            3.00  \n",
       "10178            1.00  \n",
       "18129            0.50  \n",
       "3530             1.00  \n",
       "\n",
       "[7553 rows x 3 columns]"
      ]
     },
     "execution_count": 46,
     "metadata": {},
     "output_type": "execute_result"
    }
   ],
   "source": [
    "def get_chosen_stages():\n",
    "    chosen_stages = [\n",
    "        \"COCOD\",\n",
    "        \"ERENT\",\n",
    "        \"APEJE\",\n",
    "        \"APSEG\",\n",
    "        \"PRSIS\",\n",
    "        \"ASEJE\",\n",
    "        \"COAJU\",\n",
    "        \"EMPALME\",\n",
    "        \"COREV\",\n",
    "        \"ASSEG\"\n",
    "    ]\n",
    "    return chosen_stages\n",
    "\n",
    "row_condition = data[\"CODIGO_ETAPA\"].isin(get_chosen_stages())\n",
    "data = data[row_condition]\n",
    "#data =data[\"CODIGO_ETAPA\"==]\n",
    "num_val_samples = int(data.shape[0] * 0.2)\n",
    "train_data, test_data = train_test_split(data, test_size=num_val_samples, shuffle=True, random_state=6)\n",
    "train_data = pd.DataFrame(train_data)\n",
    "test_data = pd.DataFrame(test_data)\n",
    "\n",
    "test_data"
   ]
  },
  {
   "attachments": {},
   "cell_type": "markdown",
   "metadata": {},
   "source": [
    "# Model Creation for Stage Prediction"
   ]
  },
  {
   "attachments": {},
   "cell_type": "markdown",
   "metadata": {},
   "source": [
    "## Strings operations"
   ]
  },
  {
   "cell_type": "code",
   "execution_count": 47,
   "metadata": {},
   "outputs": [],
   "source": [
    "\n",
    "def get_number_of_characters(s: str)->int:\n",
    "    return len(s.replace(\" \", \"\"))\n",
    "\n",
    "def get_character_index(s: str)->int:\n",
    "    all_characters: list = get_all_characters()\n",
    "    index = all_characters.index(s)\n",
    "    return index"
   ]
  },
  {
   "attachments": {},
   "cell_type": "markdown",
   "metadata": {},
   "source": [
    "## Biagram"
   ]
  },
  {
   "cell_type": "code",
   "execution_count": 48,
   "metadata": {},
   "outputs": [],
   "source": [
    "# create matrix with biagram\n",
    "def create_biagram() -> np.array:\n",
    "    \"\"\"\n",
    "    @return a matrix filled with zeroes of size n_char x n_char\n",
    "    \"\"\"\n",
    "    # The only characters we are going to consider.\n",
    "    all_characters: list = get_all_characters()\n",
    "    n_characters = len(all_characters)\n",
    "    # create the matrix of size n_characters\n",
    "    biagram: np.array = np.zeros((n_characters, n_characters))\n",
    "    return biagram\n",
    "\n",
    "\n",
    "def get_stage_descriptions(df: pd.DataFrame, stage: str) -> pd.DataFrame:\n",
    "    \"\"\"\n",
    "    @input\n",
    "        df: Dataframe with all the information.\n",
    "        stage: stage to extract\n",
    "    @return list with all the descriptions of the given stage\n",
    "    \"\"\"\n",
    "    column_name: str = get_column_labels()[\"CODIGO_ETAPA\"]\n",
    "    mask = df[column_name] == stage\n",
    "    return df[mask][get_column_labels()[\"DESCRIPCION\"]]\n",
    "\n",
    "\n",
    "def get_character_count(descriptions: pd.DataFrame) -> dict:\n",
    "    \"\"\"\n",
    "    @input description: df with all the description of a stage.\n",
    "    @return dictionary with character count of all the descriptions in a stage. \n",
    "    \"\"\"\n",
    "    all_characters = get_all_characters()\n",
    "    character_count: dict = {}\n",
    "    for description in descriptions:\n",
    "        for character in all_characters:\n",
    "            character_count[character] = description.count(character)\n",
    "    return character_count\n",
    "\n",
    "\n",
    "def get_filled_biagram(descriptions: pd.DataFrame) -> np.array:\n",
    "    \"\"\"\n",
    "    @input list of all the descriptions for a stage\n",
    "    @return matrix with character count, and the count of the next character\n",
    "    \"\"\"\n",
    "    # create the matrix of size n_characters\n",
    "    biagram: np.array = create_biagram()\n",
    "    for description in descriptions:\n",
    "        for index in range(0, len(description) - 1):\n",
    "            # check current and next character\n",
    "            current_character = description[index]\n",
    "            current_character_index = get_character_index(current_character)\n",
    "\n",
    "            next_character = description[index + 1]\n",
    "            next_character_index = get_character_index(next_character)\n",
    "\n",
    "            current_biagram_value = biagram[current_character_index][\n",
    "                next_character_index\n",
    "            ]\n",
    "            biagram[current_character_index][next_character_index] = (\n",
    "                current_biagram_value + 1\n",
    "            )\n",
    "    return biagram\n"
   ]
  },
  {
   "attachments": {},
   "cell_type": "markdown",
   "metadata": {},
   "source": [
    "## Probability Matrix"
   ]
  },
  {
   "cell_type": "code",
   "execution_count": 49,
   "metadata": {},
   "outputs": [],
   "source": [
    "def normalize_probabilities(character_count: int, total_characters: int)->float:\n",
    "    return character_count/total_characters\n",
    "\n",
    "def get_marginal_probabilities(character_count: dict, text:str)->np.array:\n",
    "    \"\"\"\n",
    "    @input \n",
    "        character_count: Dictionary with occurences of each character\n",
    "        text: the text to analyse\n",
    "    \"\"\"\n",
    "    character_probabilities = np.zeros(len(string.ascii_lowercase))\n",
    "    n_characters = get_number_of_characters(text)\n",
    "    for char in character_count.keys():\n",
    "        index = list(character_count.keys()).index(char)\n",
    "        character_probabilities[index] = normalize_probabilities(character_count[char], n_characters)+0.00001\n",
    "    return character_probabilities\n",
    "\n",
    "def get_cond_probabilities(joint_probability: np.array,marginal_probability: np.array)->np.array:\n",
    "    conditional_probability = (joint_probability.T/marginal_probability).T\n",
    "    # normalized matrix\n",
    "    conditional_probability = conditional_probability/conditional_probability.sum() \n",
    "    prob_sum = conditional_probability.sum()\n",
    "    print(f\"prob_sum = {prob_sum}\")\n",
    "    return conditional_probability\n",
    "\n",
    "def get_joint_probabilities(characters_count: np.array)->np.array:\n",
    "    all_characters = get_all_characters()\n",
    "    # + len(all_characters) to account for repetitions (aa, bb, cc, dd, etc.)\n",
    "    n_pairs = characters_count.sum()\n",
    "    joint_probability_matrix = create_biagram()\n",
    "    prob_sum = 0\n",
    "    for i, row in enumerate(characters_count):\n",
    "        for j,count in enumerate(characters_count):\n",
    "            joint_probability_matrix[i][j] = normalize_probabilities(characters_count[i][j], n_pairs)\n",
    "            prob_sum = prob_sum + joint_probability_matrix[i][j]\n",
    "    print(f\"prob_sum = {prob_sum}\")\n",
    "    return joint_probability_matrix"
   ]
  },
  {
   "cell_type": "code",
   "execution_count": 50,
   "metadata": {},
   "outputs": [],
   "source": [
    "def graph_matrix_heatmap(matrix: np.array, title=\"Heatmap\"):\n",
    "    all_characters = get_all_characters()\n",
    "    # fig, ax = plt.subplots(figsize=(10, 10))\n",
    "    sns.heatmap(matrix, cmap=\"Blues\" ,annot=False, xticklabels=False, yticklabels=False)\n",
    "    plt.title(title)\n",
    "    plt.xticks(rotation=0)\n",
    "    plt.show()"
   ]
  },
  {
   "attachments": {},
   "cell_type": "markdown",
   "metadata": {},
   "source": [
    "## Model Creation"
   ]
  },
  {
   "cell_type": "code",
   "execution_count": 63,
   "metadata": {},
   "outputs": [],
   "source": [
    "def language_identifier(text:str, matrix_probabilities: np.array)-> str:\n",
    "\n",
    "    chosen_stages = get_chosen_stages()\n",
    "    probs = np.zeros(10)\n",
    "    clean_text = get_clean_text(text)\n",
    "    for index in range(0, len(clean_text)-1):\n",
    "      current_character = clean_text[index]\n",
    "      next_character = clean_text[index+1]\n",
    "      \n",
    "      current_character_index = get_character_index(current_character)\n",
    "      next_character_index = get_character_index(next_character)\n",
    "\n",
    "      prob_vector: np.array = np.zeros((10))\n",
    "      for idx in range(0,10):\n",
    "        prob_vector[idx] = matrix_probabilities[idx][current_character_index][next_character_index]\n",
    "\n",
    "      probs = probs + np.log(prob_vector+0.0000001)\n",
    "    highest_prob_index = np.argmax(probs)\n",
    "    three_highest = np.argpartition(probs, -3)[-3:]\n",
    "    res  = chosen_stages[highest_prob_index]\n",
    "    top3 = []\n",
    "    top3.append(chosen_stages[three_highest[0]])\n",
    "    top3.append(chosen_stages[three_highest[1]])\n",
    "    top3.append(chosen_stages[three_highest[2]])\n",
    "    return [res,top3]"
   ]
  },
  {
   "attachments": {},
   "cell_type": "markdown",
   "metadata": {},
   "source": [
    "# Model implementation for Stage prediction"
   ]
  },
  {
   "attachments": {},
   "cell_type": "markdown",
   "metadata": {},
   "source": [
    "## COCOD"
   ]
  },
  {
   "attachments": {},
   "cell_type": "markdown",
   "metadata": {},
   "source": [
    "### Descriptions"
   ]
  },
  {
   "cell_type": "code",
   "execution_count": 52,
   "metadata": {},
   "outputs": [
    {
     "name": "stdout",
     "output_type": "stream",
     "text": [
      "11430    Se trabaja en el proyecto 998, en el entregabl...\n",
      "17775              Configurar reporte Multiples Documentos\n",
      "14137                                                Daily\n",
      "33249             Construccion en el modulo de comunicados\n",
      "35043           PBI1129478: Se modifica la etl de tarjetas\n",
      "24891                     Construccion diagramas de clases\n",
      "49755                                    Ajuste paginacion\n",
      "36302    Reunion con el equipo para revisar el servicio...\n",
      "34850    Task 208762: Construir el archivo de salida po...\n",
      "22400    211671 TK_SOPORTE_ASA_Synergia\\nsoporte servic...\n",
      "Name: DESCRIPCION, dtype: object\n"
     ]
    }
   ],
   "source": [
    "\n",
    "cocod_descriptions = get_stage_descriptions(train_data, \"COCOD\")\n",
    "print(cocod_descriptions.head(10))"
   ]
  },
  {
   "attachments": {},
   "cell_type": "markdown",
   "metadata": {},
   "source": [
    "### Random Testing"
   ]
  },
  {
   "cell_type": "code",
   "execution_count": 53,
   "metadata": {},
   "outputs": [
    {
     "name": "stdout",
     "output_type": "stream",
     "text": [
      "prob_sum = 1.000000000000012\n",
      "prob_sum = 1.0000000000000087\n",
      "prob_sum = 0.9999999999999907\n",
      "prob_sum = 0.999999999999993\n",
      "prob_sum = 0.9999999999999928\n",
      "prob_sum = 1.0000000000000058\n",
      "prob_sum = 0.9999999999999918\n",
      "prob_sum = 1.0000000000000002\n",
      "prob_sum = 0.9999999999999878\n",
      "prob_sum = 0.9999999999999863\n"
     ]
    }
   ],
   "source": [
    "\n",
    "def get_all_probability_matrices():\n",
    "    all_characters = get_all_characters()\n",
    "    probality_cube:np.array = np.zeros((10,len(all_characters),len(all_characters)))\n",
    "    for index, stage in enumerate(get_chosen_stages()):\n",
    "        stage_descriptions = get_stage_descriptions(train_data,stage)\n",
    "        STAGE_dist = get_filled_biagram(stage_descriptions)\n",
    "        STAGE_dist = get_joint_probabilities(STAGE_dist)\n",
    "        probality_cube[index] = STAGE_dist\n",
    "    return probality_cube\n",
    "p_cube = get_all_probability_matrices()"
   ]
  },
  {
   "attachments": {},
   "cell_type": "markdown",
   "metadata": {},
   "source": [
    "# Testing"
   ]
  },
  {
   "cell_type": "code",
   "execution_count": 64,
   "metadata": {},
   "outputs": [
    {
     "name": "stdout",
     "output_type": "stream",
     "text": [
      "prob_sum = 1.000000000000012\n",
      "prob_sum = 1.0000000000000087\n",
      "prob_sum = 0.9999999999999907\n",
      "prob_sum = 0.999999999999993\n",
      "prob_sum = 0.9999999999999928\n",
      "prob_sum = 1.0000000000000058\n",
      "prob_sum = 0.9999999999999918\n",
      "prob_sum = 1.0000000000000002\n",
      "prob_sum = 0.9999999999999878\n",
      "prob_sum = 0.9999999999999863\n"
     ]
    }
   ],
   "source": [
    "def get_stage_index(stage: str)->int:\n",
    "    all_stages = get_chosen_stages()\n",
    "    return all_stages.index(stage)\n",
    "\n",
    "#It's test day!\n",
    "fails: np.array        = np.zeros((10))\n",
    "successes: np.array    = np.zeros((10))\n",
    "three_option_fails     = np.zeros((10))\n",
    "three_option_successes = np.zeros((10))\n",
    "prob_cube = get_all_probability_matrices()\n",
    "\n",
    "for row in test_data.iterrows():\n",
    "\n",
    "    desc = row[1][\"DESCRIPCION\"]\n",
    "    real_stage = row[1][\"CODIGO_ETAPA\"]\n",
    "    pred = language_identifier(desc ,prob_cube)\n",
    "    idx = get_stage_index(real_stage)\n",
    "    if not (pred[0] == real_stage):\n",
    "        fails[idx] = fails[idx] + 1\n",
    "    else:\n",
    "        successes[idx] = successes[idx] + 1\n",
    "    if not (real_stage in pred[1]):\n",
    "        three_option_fails[idx] += 1\n",
    "    else:\n",
    "        three_option_successes[idx] += 1\n",
    "    "
   ]
  },
  {
   "attachments": {},
   "cell_type": "markdown",
   "metadata": {},
   "source": [
    "# Results"
   ]
  },
  {
   "cell_type": "code",
   "execution_count": 74,
   "metadata": {},
   "outputs": [
    {
     "data": {
      "image/png": "[encoded data removed]",
      "text/plain": [
       "<Figure size 640x480 with 1 Axes>"
      ]
     },
     "metadata": {},
     "output_type": "display_data"
    },
    {
     "name": "stdout",
     "output_type": "stream",
     "text": [
      "Fails     = 3507.0\n",
      "Successes = 4046.0\n",
      "Accuracy  = 0.535681186283596\n"
     ]
    }
   ],
   "source": [
    "labels = get_chosen_stages()\n",
    "width = 0.35       # the width of the bars: can also be len(x) sequence\n",
    "\n",
    "fig, ax = plt.subplots()\n",
    "\n",
    "successes_bar = ax.bar(labels, successes, width, label='Successes')\n",
    "fails_bar     = ax.bar(labels, fails, width, bottom=successes, label='Fails')\n",
    "plt.xticks(rotation=30, ha='right')\n",
    "ax.set_ylabel('Number of descriptions')\n",
    "ax.set_title('Scores by stage considering most likely prediction')\n",
    "ax.legend()\n",
    "\n",
    "def autolabel(rects,baserects):\n",
    "    \"\"\"Attach a text label above each bar in *rects*, displaying its height.\"\"\"\n",
    "    for i in range(0,len(rects)):\n",
    "        height = rects[i].get_height()\n",
    "        base_height = baserects[i].get_height()\n",
    "        ax.annotate('{0:.2g}'.format(base_height/(height+base_height)),\n",
    "                    xy=(rects[i].get_x() + rects[i].get_width() / 2, height+base_height),\n",
    "                    xytext=(0, 3),  # 3 points vertical offset\n",
    "                    textcoords=\"offset points\",\n",
    "                    ha='center', va='bottom')\n",
    "autolabel(fails_bar,successes_bar)\n",
    "plt.show()\n",
    "fails_sum = fails.sum()\n",
    "successes_sum = successes.sum()\n",
    "print(f\"Fails     = {fails_sum}\")\n",
    "print(f\"Successes = {successes_sum}\")\n",
    "print(f\"Accuracy  = {successes_sum/(successes_sum+fails_sum)}\")"
   ]
  },
  {
   "cell_type": "code",
   "execution_count": 73,
   "metadata": {},
   "outputs": [
    {
     "data": {
      "image/png": "[encoded data removed]",
      "text/plain": [
       "<Figure size 640x480 with 1 Axes>"
      ]
     },
     "metadata": {},
     "output_type": "display_data"
    },
    {
     "name": "stdout",
     "output_type": "stream",
     "text": [
      "Fails     = 1305.0\n",
      "Successes = 6248.0\n",
      "Accuracy  = 0.827220971799285\n"
     ]
    }
   ],
   "source": [
    "labels = get_chosen_stages()\n",
    "width = 0.35       # the width of the bars: can also be len(x) sequence\n",
    "\n",
    "fig, ax = plt.subplots()\n",
    "\n",
    "successes_bar = ax.bar(labels, three_option_successes, width, label='Successes')\n",
    "fails_bar     = ax.bar(labels,  three_option_fails, width, bottom=three_option_successes, label='Fails')\n",
    "plt.xticks(rotation=30, ha='right')\n",
    "ax.set_ylabel('Number of descriptions')\n",
    "ax.set_title('Scores by stage considering three most likely predictions')\n",
    "ax.legend()\n",
    "\n",
    "def autolabel(rects,baserects):\n",
    "    \"\"\"Attach a text label above each bar in *rects*, displaying its height.\"\"\"\n",
    "    for i in range(0,len(rects)):\n",
    "        height = rects[i].get_height()\n",
    "        base_height = baserects[i].get_height()\n",
    "        ax.annotate('{0:.2g}'.format(base_height/(height+base_height)),\n",
    "                    xy=(rects[i].get_x() + rects[i].get_width() / 2, height+base_height),\n",
    "                    xytext=(0, 3),  # 3 points vertical offset\n",
    "                    textcoords=\"offset points\",\n",
    "                    ha='center', va='bottom')\n",
    "autolabel(fails_bar,successes_bar)\n",
    "plt.show()\n",
    "fails_sum =  three_option_fails.sum()\n",
    "successes_sum =  three_option_successes.sum()\n",
    "print(f\"Fails     = {fails_sum}\")\n",
    "print(f\"Successes = {successes_sum}\")\n",
    "print(f\"Accuracy  = {successes_sum/(successes_sum+fails_sum)}\")"
   ]
  },
  {
   "attachments": {},
   "cell_type": "markdown",
   "metadata": {},
   "source": [
    "# Model Creation for Duration Prediction"
   ]
  },
  {
   "attachments": {},
   "cell_type": "markdown",
   "metadata": {},
   "source": [
    "## Model Implementation for duration prediction"
   ]
  }
 ],
 "metadata": {
  "kernelspec": {
   "display_name": "python310PlanSemilla",
   "language": "python",
   "name": "python3"
  },
  "language_info": {
   "codemirror_mode": {
    "name": "ipython",
    "version": 3
   },
   "file_extension": ".py",
   "mimetype": "text/x-python",
   "name": "python",
   "nbconvert_exporter": "python",
   "pygments_lexer": "ipython3",
   "version": "3.10.9"
  },
  "orig_nbformat": 4,
  "vscode": {
   "interpreter": {
    "hash": "15fcd15bea7293a54a10f7149244aa289792f7aa5d2ef97f2942951eecdcfe26"
   }
  }
 },
 "nbformat": 4,
 "nbformat_minor": 2
}
